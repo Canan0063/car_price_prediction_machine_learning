{
 "cells": [
  {
   "cell_type": "markdown",
   "metadata": {},
   "source": [
    "# Predicting Car Prices "
   ]
  },
  {
   "cell_type": "markdown",
   "metadata": {},
   "source": [
    "**Automobile Data Set** is created by Jeffrey C. Schlimmer and is shared by UCI on its archive named as **UCI Machine Learning Repository**. Information regarding to this data set is shared on UCI's Repository as follows:\n",
    "\n",
    "*This data set consists of three types of entities: (a) the specification of an auto in terms of various characteristics, (b) its assigned insurance risk rating, (c) its normalized losses in use as compared to other cars. The second rating corresponds to the degree to which the auto is more risky than its price indicates. Cars are initially assigned a risk factor symbol associated with its price. Then, if it is more risky (or less), this symbol is adjusted by moving it up (or down) the scale. Actuarians call this process \"symboling\". A value of +3 indicates that the auto is risky, -3 that it is probably pretty safe.*\n",
    "\n",
    "*The third factor is the relative average loss payment per insured vehicle year. This value is normalized for all autos within a particular size classification (two-door small, station wagons, sports/speciality, etc...), and represents the average loss per car per year.*"
   ]
  },
  {
   "cell_type": "markdown",
   "metadata": {},
   "source": [
    "**My aim is to predict the prices of cars with respect to their features by using Regression Models.**"
   ]
  },
  {
   "cell_type": "code",
   "execution_count": 1,
   "metadata": {},
   "outputs": [],
   "source": [
    "#import basic libraries \n",
    "import numpy as np\n",
    "import pandas as pd\n",
    "import matplotlib.pyplot as plt\n",
    "import seaborn as sns"
   ]
  },
  {
   "cell_type": "code",
   "execution_count": 2,
   "metadata": {},
   "outputs": [
    {
     "data": {
      "text/html": [
       "<div>\n",
       "<style scoped>\n",
       "    .dataframe tbody tr th:only-of-type {\n",
       "        vertical-align: middle;\n",
       "    }\n",
       "\n",
       "    .dataframe tbody tr th {\n",
       "        vertical-align: top;\n",
       "    }\n",
       "\n",
       "    .dataframe thead th {\n",
       "        text-align: right;\n",
       "    }\n",
       "</style>\n",
       "<table border=\"1\" class=\"dataframe\">\n",
       "  <thead>\n",
       "    <tr style=\"text-align: right;\">\n",
       "      <th></th>\n",
       "      <th>symbol</th>\n",
       "      <th>norm_loss</th>\n",
       "      <th>brand</th>\n",
       "      <th>fuel_type</th>\n",
       "      <th>aspiration</th>\n",
       "      <th>num_doors</th>\n",
       "      <th>body_style</th>\n",
       "      <th>wheel</th>\n",
       "      <th>engine_loc</th>\n",
       "      <th>wheel_base</th>\n",
       "      <th>...</th>\n",
       "      <th>engine_size</th>\n",
       "      <th>fuel_system</th>\n",
       "      <th>bore</th>\n",
       "      <th>stroke</th>\n",
       "      <th>compress_ratio</th>\n",
       "      <th>horsepower</th>\n",
       "      <th>peak_rpm</th>\n",
       "      <th>city_mpg</th>\n",
       "      <th>highway_mpg</th>\n",
       "      <th>price</th>\n",
       "    </tr>\n",
       "  </thead>\n",
       "  <tbody>\n",
       "    <tr>\n",
       "      <th>0</th>\n",
       "      <td>3</td>\n",
       "      <td>?</td>\n",
       "      <td>alfa-romero</td>\n",
       "      <td>gas</td>\n",
       "      <td>std</td>\n",
       "      <td>two</td>\n",
       "      <td>convertible</td>\n",
       "      <td>rwd</td>\n",
       "      <td>front</td>\n",
       "      <td>88.6</td>\n",
       "      <td>...</td>\n",
       "      <td>130</td>\n",
       "      <td>mpfi</td>\n",
       "      <td>3.47</td>\n",
       "      <td>2.68</td>\n",
       "      <td>9.0</td>\n",
       "      <td>111</td>\n",
       "      <td>5000</td>\n",
       "      <td>21</td>\n",
       "      <td>27</td>\n",
       "      <td>13495</td>\n",
       "    </tr>\n",
       "    <tr>\n",
       "      <th>1</th>\n",
       "      <td>3</td>\n",
       "      <td>?</td>\n",
       "      <td>alfa-romero</td>\n",
       "      <td>gas</td>\n",
       "      <td>std</td>\n",
       "      <td>two</td>\n",
       "      <td>convertible</td>\n",
       "      <td>rwd</td>\n",
       "      <td>front</td>\n",
       "      <td>88.6</td>\n",
       "      <td>...</td>\n",
       "      <td>130</td>\n",
       "      <td>mpfi</td>\n",
       "      <td>3.47</td>\n",
       "      <td>2.68</td>\n",
       "      <td>9.0</td>\n",
       "      <td>111</td>\n",
       "      <td>5000</td>\n",
       "      <td>21</td>\n",
       "      <td>27</td>\n",
       "      <td>16500</td>\n",
       "    </tr>\n",
       "    <tr>\n",
       "      <th>2</th>\n",
       "      <td>1</td>\n",
       "      <td>?</td>\n",
       "      <td>alfa-romero</td>\n",
       "      <td>gas</td>\n",
       "      <td>std</td>\n",
       "      <td>two</td>\n",
       "      <td>hatchback</td>\n",
       "      <td>rwd</td>\n",
       "      <td>front</td>\n",
       "      <td>94.5</td>\n",
       "      <td>...</td>\n",
       "      <td>152</td>\n",
       "      <td>mpfi</td>\n",
       "      <td>2.68</td>\n",
       "      <td>3.47</td>\n",
       "      <td>9.0</td>\n",
       "      <td>154</td>\n",
       "      <td>5000</td>\n",
       "      <td>19</td>\n",
       "      <td>26</td>\n",
       "      <td>16500</td>\n",
       "    </tr>\n",
       "    <tr>\n",
       "      <th>3</th>\n",
       "      <td>2</td>\n",
       "      <td>164</td>\n",
       "      <td>audi</td>\n",
       "      <td>gas</td>\n",
       "      <td>std</td>\n",
       "      <td>four</td>\n",
       "      <td>sedan</td>\n",
       "      <td>fwd</td>\n",
       "      <td>front</td>\n",
       "      <td>99.8</td>\n",
       "      <td>...</td>\n",
       "      <td>109</td>\n",
       "      <td>mpfi</td>\n",
       "      <td>3.19</td>\n",
       "      <td>3.40</td>\n",
       "      <td>10.0</td>\n",
       "      <td>102</td>\n",
       "      <td>5500</td>\n",
       "      <td>24</td>\n",
       "      <td>30</td>\n",
       "      <td>13950</td>\n",
       "    </tr>\n",
       "    <tr>\n",
       "      <th>4</th>\n",
       "      <td>2</td>\n",
       "      <td>164</td>\n",
       "      <td>audi</td>\n",
       "      <td>gas</td>\n",
       "      <td>std</td>\n",
       "      <td>four</td>\n",
       "      <td>sedan</td>\n",
       "      <td>4wd</td>\n",
       "      <td>front</td>\n",
       "      <td>99.4</td>\n",
       "      <td>...</td>\n",
       "      <td>136</td>\n",
       "      <td>mpfi</td>\n",
       "      <td>3.19</td>\n",
       "      <td>3.40</td>\n",
       "      <td>8.0</td>\n",
       "      <td>115</td>\n",
       "      <td>5500</td>\n",
       "      <td>18</td>\n",
       "      <td>22</td>\n",
       "      <td>17450</td>\n",
       "    </tr>\n",
       "    <tr>\n",
       "      <th>5</th>\n",
       "      <td>2</td>\n",
       "      <td>?</td>\n",
       "      <td>audi</td>\n",
       "      <td>gas</td>\n",
       "      <td>std</td>\n",
       "      <td>two</td>\n",
       "      <td>sedan</td>\n",
       "      <td>fwd</td>\n",
       "      <td>front</td>\n",
       "      <td>99.8</td>\n",
       "      <td>...</td>\n",
       "      <td>136</td>\n",
       "      <td>mpfi</td>\n",
       "      <td>3.19</td>\n",
       "      <td>3.40</td>\n",
       "      <td>8.5</td>\n",
       "      <td>110</td>\n",
       "      <td>5500</td>\n",
       "      <td>19</td>\n",
       "      <td>25</td>\n",
       "      <td>15250</td>\n",
       "    </tr>\n",
       "    <tr>\n",
       "      <th>6</th>\n",
       "      <td>1</td>\n",
       "      <td>158</td>\n",
       "      <td>audi</td>\n",
       "      <td>gas</td>\n",
       "      <td>std</td>\n",
       "      <td>four</td>\n",
       "      <td>sedan</td>\n",
       "      <td>fwd</td>\n",
       "      <td>front</td>\n",
       "      <td>105.8</td>\n",
       "      <td>...</td>\n",
       "      <td>136</td>\n",
       "      <td>mpfi</td>\n",
       "      <td>3.19</td>\n",
       "      <td>3.40</td>\n",
       "      <td>8.5</td>\n",
       "      <td>110</td>\n",
       "      <td>5500</td>\n",
       "      <td>19</td>\n",
       "      <td>25</td>\n",
       "      <td>17710</td>\n",
       "    </tr>\n",
       "    <tr>\n",
       "      <th>7</th>\n",
       "      <td>1</td>\n",
       "      <td>?</td>\n",
       "      <td>audi</td>\n",
       "      <td>gas</td>\n",
       "      <td>std</td>\n",
       "      <td>four</td>\n",
       "      <td>wagon</td>\n",
       "      <td>fwd</td>\n",
       "      <td>front</td>\n",
       "      <td>105.8</td>\n",
       "      <td>...</td>\n",
       "      <td>136</td>\n",
       "      <td>mpfi</td>\n",
       "      <td>3.19</td>\n",
       "      <td>3.40</td>\n",
       "      <td>8.5</td>\n",
       "      <td>110</td>\n",
       "      <td>5500</td>\n",
       "      <td>19</td>\n",
       "      <td>25</td>\n",
       "      <td>18920</td>\n",
       "    </tr>\n",
       "    <tr>\n",
       "      <th>8</th>\n",
       "      <td>1</td>\n",
       "      <td>158</td>\n",
       "      <td>audi</td>\n",
       "      <td>gas</td>\n",
       "      <td>turbo</td>\n",
       "      <td>four</td>\n",
       "      <td>sedan</td>\n",
       "      <td>fwd</td>\n",
       "      <td>front</td>\n",
       "      <td>105.8</td>\n",
       "      <td>...</td>\n",
       "      <td>131</td>\n",
       "      <td>mpfi</td>\n",
       "      <td>3.13</td>\n",
       "      <td>3.40</td>\n",
       "      <td>8.3</td>\n",
       "      <td>140</td>\n",
       "      <td>5500</td>\n",
       "      <td>17</td>\n",
       "      <td>20</td>\n",
       "      <td>23875</td>\n",
       "    </tr>\n",
       "    <tr>\n",
       "      <th>9</th>\n",
       "      <td>0</td>\n",
       "      <td>?</td>\n",
       "      <td>audi</td>\n",
       "      <td>gas</td>\n",
       "      <td>turbo</td>\n",
       "      <td>two</td>\n",
       "      <td>hatchback</td>\n",
       "      <td>4wd</td>\n",
       "      <td>front</td>\n",
       "      <td>99.5</td>\n",
       "      <td>...</td>\n",
       "      <td>131</td>\n",
       "      <td>mpfi</td>\n",
       "      <td>3.13</td>\n",
       "      <td>3.40</td>\n",
       "      <td>7.0</td>\n",
       "      <td>160</td>\n",
       "      <td>5500</td>\n",
       "      <td>16</td>\n",
       "      <td>22</td>\n",
       "      <td>?</td>\n",
       "    </tr>\n",
       "  </tbody>\n",
       "</table>\n",
       "<p>10 rows × 26 columns</p>\n",
       "</div>"
      ],
      "text/plain": [
       "   symbol norm_loss        brand fuel_type aspiration num_doors   body_style  \\\n",
       "0       3         ?  alfa-romero       gas        std       two  convertible   \n",
       "1       3         ?  alfa-romero       gas        std       two  convertible   \n",
       "2       1         ?  alfa-romero       gas        std       two    hatchback   \n",
       "3       2       164         audi       gas        std      four        sedan   \n",
       "4       2       164         audi       gas        std      four        sedan   \n",
       "5       2         ?         audi       gas        std       two        sedan   \n",
       "6       1       158         audi       gas        std      four        sedan   \n",
       "7       1         ?         audi       gas        std      four        wagon   \n",
       "8       1       158         audi       gas      turbo      four        sedan   \n",
       "9       0         ?         audi       gas      turbo       two    hatchback   \n",
       "\n",
       "  wheel engine_loc  wheel_base  ...  engine_size  fuel_system  bore  stroke  \\\n",
       "0   rwd      front        88.6  ...          130         mpfi  3.47    2.68   \n",
       "1   rwd      front        88.6  ...          130         mpfi  3.47    2.68   \n",
       "2   rwd      front        94.5  ...          152         mpfi  2.68    3.47   \n",
       "3   fwd      front        99.8  ...          109         mpfi  3.19    3.40   \n",
       "4   4wd      front        99.4  ...          136         mpfi  3.19    3.40   \n",
       "5   fwd      front        99.8  ...          136         mpfi  3.19    3.40   \n",
       "6   fwd      front       105.8  ...          136         mpfi  3.19    3.40   \n",
       "7   fwd      front       105.8  ...          136         mpfi  3.19    3.40   \n",
       "8   fwd      front       105.8  ...          131         mpfi  3.13    3.40   \n",
       "9   4wd      front        99.5  ...          131         mpfi  3.13    3.40   \n",
       "\n",
       "  compress_ratio horsepower  peak_rpm city_mpg highway_mpg  price  \n",
       "0            9.0        111      5000       21          27  13495  \n",
       "1            9.0        111      5000       21          27  16500  \n",
       "2            9.0        154      5000       19          26  16500  \n",
       "3           10.0        102      5500       24          30  13950  \n",
       "4            8.0        115      5500       18          22  17450  \n",
       "5            8.5        110      5500       19          25  15250  \n",
       "6            8.5        110      5500       19          25  17710  \n",
       "7            8.5        110      5500       19          25  18920  \n",
       "8            8.3        140      5500       17          20  23875  \n",
       "9            7.0        160      5500       16          22      ?  \n",
       "\n",
       "[10 rows x 26 columns]"
      ]
     },
     "execution_count": 2,
     "metadata": {},
     "output_type": "execute_result"
    }
   ],
   "source": [
    "#read the file\n",
    "columns =[\"symbol\",\"norm_loss\",\"brand\",\"fuel_type\",\"aspiration\",\"num_doors\",\"body_style\",\"wheel\",\"engine_loc\",\"wheel_base\",\"length\",\"width\",\n",
    "           \"height\",\"curb_weight\",\"engine_type\",\"num_cylinder\",\"engine_size\",\"fuel_system\",\"bore\",\"stroke\",\"compress_ratio\",\"horsepower\",\"peak_rpm\",\n",
    "           \"city_mpg\",\"highway_mpg\",\"price\"] \n",
    "\n",
    "df = pd.read_csv(\"imports-85.data\",header=None,names=columns)\n",
    "df.head(10)"
   ]
  },
  {
   "cell_type": "code",
   "execution_count": 3,
   "metadata": {},
   "outputs": [
    {
     "data": {
      "text/plain": [
       "(205, 26)"
      ]
     },
     "execution_count": 3,
     "metadata": {},
     "output_type": "execute_result"
    }
   ],
   "source": [
    "#Data set's size\n",
    "df.shape"
   ]
  },
  {
   "cell_type": "code",
   "execution_count": 4,
   "metadata": {},
   "outputs": [
    {
     "name": "stdout",
     "output_type": "stream",
     "text": [
      "<class 'pandas.core.frame.DataFrame'>\n",
      "RangeIndex: 205 entries, 0 to 204\n",
      "Data columns (total 26 columns):\n",
      "symbol            205 non-null int64\n",
      "norm_loss         205 non-null object\n",
      "brand             205 non-null object\n",
      "fuel_type         205 non-null object\n",
      "aspiration        205 non-null object\n",
      "num_doors         205 non-null object\n",
      "body_style        205 non-null object\n",
      "wheel             205 non-null object\n",
      "engine_loc        205 non-null object\n",
      "wheel_base        205 non-null float64\n",
      "length            205 non-null float64\n",
      "width             205 non-null float64\n",
      "height            205 non-null float64\n",
      "curb_weight       205 non-null int64\n",
      "engine_type       205 non-null object\n",
      "num_cylinder      205 non-null object\n",
      "engine_size       205 non-null int64\n",
      "fuel_system       205 non-null object\n",
      "bore              205 non-null object\n",
      "stroke            205 non-null object\n",
      "compress_ratio    205 non-null float64\n",
      "horsepower        205 non-null object\n",
      "peak_rpm          205 non-null object\n",
      "city_mpg          205 non-null int64\n",
      "highway_mpg       205 non-null int64\n",
      "price             205 non-null object\n",
      "dtypes: float64(5), int64(5), object(16)\n",
      "memory usage: 41.7+ KB\n"
     ]
    }
   ],
   "source": [
    "df.info()"
   ]
  },
  {
   "cell_type": "code",
   "execution_count": 5,
   "metadata": {},
   "outputs": [
    {
     "data": {
      "text/plain": [
       "symbol            0\n",
       "norm_loss         0\n",
       "brand             0\n",
       "fuel_type         0\n",
       "aspiration        0\n",
       "num_doors         0\n",
       "body_style        0\n",
       "wheel             0\n",
       "engine_loc        0\n",
       "wheel_base        0\n",
       "length            0\n",
       "width             0\n",
       "height            0\n",
       "curb_weight       0\n",
       "engine_type       0\n",
       "num_cylinder      0\n",
       "engine_size       0\n",
       "fuel_system       0\n",
       "bore              0\n",
       "stroke            0\n",
       "compress_ratio    0\n",
       "horsepower        0\n",
       "peak_rpm          0\n",
       "city_mpg          0\n",
       "highway_mpg       0\n",
       "price             0\n",
       "dtype: int64"
      ]
     },
     "execution_count": 5,
     "metadata": {},
     "output_type": "execute_result"
    }
   ],
   "source": [
    "#Is there any null values in the dataset?\n",
    "\n",
    "df.isna().sum()"
   ]
  },
  {
   "cell_type": "markdown",
   "metadata": {},
   "source": [
    "When checking the first 10 rows, we saw that there were values with ? so it is high likely that null values are presented with \"?\" in this dataset. Let's check the \"?\" values in this data set:"
   ]
  },
  {
   "cell_type": "code",
   "execution_count": 6,
   "metadata": {},
   "outputs": [
    {
     "data": {
      "text/plain": [
       "symbol            False\n",
       "norm_loss          True\n",
       "brand             False\n",
       "fuel_type         False\n",
       "aspiration        False\n",
       "num_doors          True\n",
       "body_style        False\n",
       "wheel             False\n",
       "engine_loc        False\n",
       "wheel_base        False\n",
       "length            False\n",
       "width             False\n",
       "height            False\n",
       "curb_weight       False\n",
       "engine_type       False\n",
       "num_cylinder      False\n",
       "engine_size       False\n",
       "fuel_system       False\n",
       "bore               True\n",
       "stroke             True\n",
       "compress_ratio    False\n",
       "horsepower         True\n",
       "peak_rpm           True\n",
       "city_mpg          False\n",
       "highway_mpg       False\n",
       "price              True\n",
       "dtype: bool"
      ]
     },
     "execution_count": 6,
     "metadata": {},
     "output_type": "execute_result"
    }
   ],
   "source": [
    "df.isin([\"?\"]).any()"
   ]
  },
  {
   "cell_type": "markdown",
   "metadata": {},
   "source": [
    "The columns **norm_loss, bore, stroke, horsepower, peak_rpm and price** should be converted to a numerical type and then, \"\"?\"\" values must be replaced with np.nan. The same is true for num_doors column, but the values under this column are string so first they need to be mapped."
   ]
  },
  {
   "cell_type": "code",
   "execution_count": 7,
   "metadata": {},
   "outputs": [],
   "source": [
    "#Convert column to numerical values\n",
    "df = df.replace(\"?\",np.nan)\n",
    "\n",
    "df.norm_loss = pd.to_numeric(df.norm_loss)\n",
    "df.bore = pd.to_numeric(df.bore)\n",
    "df.stroke = pd.to_numeric(df.stroke)\n",
    "df.horsepower = pd.to_numeric(df.horsepower)\n",
    "df.peak_rpm = pd.to_numeric(df.peak_rpm)\n",
    "df.price = pd.to_numeric(df.price)"
   ]
  },
  {
   "cell_type": "code",
   "execution_count": 8,
   "metadata": {},
   "outputs": [
    {
     "data": {
      "text/plain": [
       "symbol             0\n",
       "norm_loss         41\n",
       "brand              0\n",
       "fuel_type          0\n",
       "aspiration         0\n",
       "num_doors          2\n",
       "body_style         0\n",
       "wheel              0\n",
       "engine_loc         0\n",
       "wheel_base         0\n",
       "length             0\n",
       "width              0\n",
       "height             0\n",
       "curb_weight        0\n",
       "engine_type        0\n",
       "num_cylinder       0\n",
       "engine_size        0\n",
       "fuel_system        0\n",
       "bore               4\n",
       "stroke             4\n",
       "compress_ratio     0\n",
       "horsepower         2\n",
       "peak_rpm           2\n",
       "city_mpg           0\n",
       "highway_mpg        0\n",
       "price              4\n",
       "dtype: int64"
      ]
     },
     "execution_count": 8,
     "metadata": {},
     "output_type": "execute_result"
    }
   ],
   "source": [
    "df.isna().sum()"
   ]
  },
  {
   "cell_type": "code",
   "execution_count": 9,
   "metadata": {},
   "outputs": [],
   "source": [
    "#Call SimpleImputer\n",
    "\n",
    "from sklearn.impute import SimpleImputer\n",
    "imp = SimpleImputer(missing_values=np.nan,strategy=\"mean\")\n",
    "\n",
    "#Start imputation\n",
    "df[[\"norm_loss\"]] = imp.fit_transform(df[[\"norm_loss\"]])\n",
    "df[[\"bore\"]] = imp.fit_transform(df[[\"bore\"]])\n",
    "df[[\"stroke\"]] = imp.fit_transform(df[[\"stroke\"]])\n",
    "df[[\"horsepower\"]] = imp.fit_transform(df[[\"horsepower\"]])\n",
    "df[[\"peak_rpm\"]] = imp.fit_transform(df[[\"peak_rpm\"]])\n",
    "df[[\"price\"]] = imp.fit_transform(df[[\"price\"]])"
   ]
  },
  {
   "cell_type": "code",
   "execution_count": 10,
   "metadata": {},
   "outputs": [
    {
     "data": {
      "text/plain": [
       "array([2., 4.])"
      ]
     },
     "execution_count": 10,
     "metadata": {},
     "output_type": "execute_result"
    }
   ],
   "source": [
    "#changing the values under num_doors column\n",
    "\n",
    "df.num_doors = df.num_doors.map({\"two\":2,\"four\":4})\n",
    "df.num_doors = df.num_doors.fillna(df.num_doors.median())\n",
    "df.num_doors.unique()"
   ]
  },
  {
   "cell_type": "code",
   "execution_count": 11,
   "metadata": {},
   "outputs": [
    {
     "data": {
      "text/plain": [
       "symbol            0\n",
       "norm_loss         0\n",
       "brand             0\n",
       "fuel_type         0\n",
       "aspiration        0\n",
       "num_doors         0\n",
       "body_style        0\n",
       "wheel             0\n",
       "engine_loc        0\n",
       "wheel_base        0\n",
       "length            0\n",
       "width             0\n",
       "height            0\n",
       "curb_weight       0\n",
       "engine_type       0\n",
       "num_cylinder      0\n",
       "engine_size       0\n",
       "fuel_system       0\n",
       "bore              0\n",
       "stroke            0\n",
       "compress_ratio    0\n",
       "horsepower        0\n",
       "peak_rpm          0\n",
       "city_mpg          0\n",
       "highway_mpg       0\n",
       "price             0\n",
       "dtype: int64"
      ]
     },
     "execution_count": 11,
     "metadata": {},
     "output_type": "execute_result"
    }
   ],
   "source": [
    "df.isna().sum()"
   ]
  },
  {
   "cell_type": "markdown",
   "metadata": {},
   "source": [
    "It looks like our data set is now NaN-free!"
   ]
  },
  {
   "cell_type": "markdown",
   "metadata": {},
   "source": [
    "## Data visualization"
   ]
  },
  {
   "cell_type": "markdown",
   "metadata": {},
   "source": [
    "In this section, I want to analyze the data set visually to get some idea about values it had given."
   ]
  },
  {
   "cell_type": "markdown",
   "metadata": {},
   "source": [
    "#### Question 1: What are the most frequent five brands that appeared in this dataset?"
   ]
  },
  {
   "cell_type": "code",
   "execution_count": 12,
   "metadata": {},
   "outputs": [
    {
     "data": {
      "image/png": "[encoded data removed]",
      "text/plain": [
       "<Figure size 432x360 with 1 Axes>"
      ]
     },
     "metadata": {
      "needs_background": "light"
     },
     "output_type": "display_data"
    }
   ],
   "source": [
    "plt.figure(figsize=(6,5))\n",
    "sns.barplot(x = df.brand.value_counts().sort_values(ascending=False).head(5).index,\n",
    "           y=df.brand.value_counts().sort_values(ascending=False).head(5).values,\n",
    "           data=df)\n",
    "plt.xticks(rotation=45)\n",
    "plt.xlabel(\"Car Brands\",fontsize=18)\n",
    "plt.ylabel(\"Counts\",fontsize=18)\n",
    "sns.despine()\n",
    "plt.show()"
   ]
  },
  {
   "cell_type": "markdown",
   "metadata": {},
   "source": [
    "**Toyota** is the most frequently appeared brand in this data set."
   ]
  },
  {
   "cell_type": "markdown",
   "metadata": {},
   "source": [
    "#### Question 2: What are the least frequent five brands that appeared in this dataset?"
   ]
  },
  {
   "cell_type": "code",
   "execution_count": 13,
   "metadata": {},
   "outputs": [
    {
     "data": {
      "image/png": "[encoded data removed]",
      "text/plain": [
       "<Figure size 432x360 with 1 Axes>"
      ]
     },
     "metadata": {
      "needs_background": "light"
     },
     "output_type": "display_data"
    }
   ],
   "source": [
    "plt.figure(figsize=(6,5))\n",
    "sns.barplot(x = df.brand.value_counts().sort_values(ascending=True)[:5].index,\n",
    "           y=df.brand.value_counts().sort_values(ascending=True)[:5].values,\n",
    "           data=df)\n",
    "plt.xticks(rotation=45)\n",
    "plt.xlabel(\"Car Brands\",fontsize=18)\n",
    "plt.ylabel(\"Counts\",fontsize=18)\n",
    "sns.despine()\n",
    "plt.show()"
   ]
  },
  {
   "cell_type": "markdown",
   "metadata": {},
   "source": [
    "The brand **Mercury** is the least appeared brand in the data set, there is only one car model from Mercury in this data set!"
   ]
  },
  {
   "cell_type": "markdown",
   "metadata": {},
   "source": [
    "**Question 3: What is the relation between horsepower and cars' prices?**"
   ]
  },
  {
   "cell_type": "code",
   "execution_count": 14,
   "metadata": {},
   "outputs": [
    {
     "data": {
      "image/png": "[encoded data removed]",
      "text/plain": [
       "<Figure size 720x504 with 1 Axes>"
      ]
     },
     "metadata": {
      "needs_background": "light"
     },
     "output_type": "display_data"
    }
   ],
   "source": [
    "plt.figure(figsize=(10,7))\n",
    "sns.regplot(x = df.horsepower.values, y = df.price.values, data=df,color=\"red\")\n",
    "plt.xlabel(\"Horsepower\",fontsize=18)\n",
    "plt.ylabel(\"Price\",fontsize=18)\n",
    "sns.despine()\n",
    "plt.show()"
   ]
  },
  {
   "cell_type": "markdown",
   "metadata": {},
   "source": [
    "**Question 4: What is the relation between engine size and cars' prices?**"
   ]
  },
  {
   "cell_type": "code",
   "execution_count": 15,
   "metadata": {},
   "outputs": [
    {
     "data": {
      "image/png": "[encoded data removed]",
      "text/plain": [
       "<Figure size 720x504 with 1 Axes>"
      ]
     },
     "metadata": {
      "needs_background": "light"
     },
     "output_type": "display_data"
    }
   ],
   "source": [
    "plt.figure(figsize=(10,7))\n",
    "sns.regplot(x = df.engine_size.values, y = df.price.values, data=df,color=\"orange\")\n",
    "plt.xlabel(\"Engine Size\",fontsize=18)\n",
    "plt.ylabel(\"Price\",fontsize=18)\n",
    "sns.despine()\n",
    "plt.show()"
   ]
  },
  {
   "cell_type": "markdown",
   "metadata": {},
   "source": [
    "**Question 5: What is the relation between city_mpg and cars' prices?**"
   ]
  },
  {
   "cell_type": "code",
   "execution_count": 16,
   "metadata": {},
   "outputs": [
    {
     "data": {
      "image/png": "[encoded data removed]",
      "text/plain": [
       "<Figure size 720x504 with 1 Axes>"
      ]
     },
     "metadata": {
      "needs_background": "light"
     },
     "output_type": "display_data"
    }
   ],
   "source": [
    "plt.figure(figsize=(10,7))\n",
    "sns.regplot(x = df.city_mpg.values, y = df.price.values, data=df,color=\"turquoise\")\n",
    "plt.xlabel(\"Engine Size\",fontsize=18)\n",
    "plt.ylabel(\"Price\",fontsize=18)\n",
    "sns.despine()\n",
    "plt.show()"
   ]
  },
  {
   "cell_type": "markdown",
   "metadata": {},
   "source": [
    "It can be said overall that there is not an important correlational relationship between variables."
   ]
  },
  {
   "cell_type": "markdown",
   "metadata": {},
   "source": [
    "## Data Preparation"
   ]
  },
  {
   "cell_type": "code",
   "execution_count": 17,
   "metadata": {},
   "outputs": [
    {
     "data": {
      "text/html": [
       "<div>\n",
       "<style scoped>\n",
       "    .dataframe tbody tr th:only-of-type {\n",
       "        vertical-align: middle;\n",
       "    }\n",
       "\n",
       "    .dataframe tbody tr th {\n",
       "        vertical-align: top;\n",
       "    }\n",
       "\n",
       "    .dataframe thead th {\n",
       "        text-align: right;\n",
       "    }\n",
       "</style>\n",
       "<table border=\"1\" class=\"dataframe\">\n",
       "  <thead>\n",
       "    <tr style=\"text-align: right;\">\n",
       "      <th></th>\n",
       "      <th>symbol</th>\n",
       "      <th>norm_loss_left</th>\n",
       "      <th>brand</th>\n",
       "      <th>fuel_type</th>\n",
       "      <th>aspiration</th>\n",
       "      <th>num_doors</th>\n",
       "      <th>body_style</th>\n",
       "      <th>wheel</th>\n",
       "      <th>engine_loc</th>\n",
       "      <th>wheel_base_left</th>\n",
       "      <th>...</th>\n",
       "      <th>num_cylinder_twelve</th>\n",
       "      <th>num_cylinder_two</th>\n",
       "      <th>fuel_system_1bbl</th>\n",
       "      <th>fuel_system_2bbl</th>\n",
       "      <th>fuel_system_4bbl</th>\n",
       "      <th>fuel_system_idi</th>\n",
       "      <th>fuel_system_mfi</th>\n",
       "      <th>fuel_system_mpfi</th>\n",
       "      <th>fuel_system_spdi</th>\n",
       "      <th>fuel_system_spfi</th>\n",
       "    </tr>\n",
       "  </thead>\n",
       "  <tbody>\n",
       "    <tr>\n",
       "      <th>0</th>\n",
       "      <td>3</td>\n",
       "      <td>122.0</td>\n",
       "      <td>alfa-romero</td>\n",
       "      <td>gas</td>\n",
       "      <td>std</td>\n",
       "      <td>2.0</td>\n",
       "      <td>convertible</td>\n",
       "      <td>rwd</td>\n",
       "      <td>front</td>\n",
       "      <td>88.6</td>\n",
       "      <td>...</td>\n",
       "      <td>0</td>\n",
       "      <td>0</td>\n",
       "      <td>0</td>\n",
       "      <td>0</td>\n",
       "      <td>0</td>\n",
       "      <td>0</td>\n",
       "      <td>0</td>\n",
       "      <td>1</td>\n",
       "      <td>0</td>\n",
       "      <td>0</td>\n",
       "    </tr>\n",
       "    <tr>\n",
       "      <th>1</th>\n",
       "      <td>3</td>\n",
       "      <td>122.0</td>\n",
       "      <td>alfa-romero</td>\n",
       "      <td>gas</td>\n",
       "      <td>std</td>\n",
       "      <td>2.0</td>\n",
       "      <td>convertible</td>\n",
       "      <td>rwd</td>\n",
       "      <td>front</td>\n",
       "      <td>88.6</td>\n",
       "      <td>...</td>\n",
       "      <td>0</td>\n",
       "      <td>0</td>\n",
       "      <td>0</td>\n",
       "      <td>0</td>\n",
       "      <td>0</td>\n",
       "      <td>0</td>\n",
       "      <td>0</td>\n",
       "      <td>1</td>\n",
       "      <td>0</td>\n",
       "      <td>0</td>\n",
       "    </tr>\n",
       "    <tr>\n",
       "      <th>2</th>\n",
       "      <td>1</td>\n",
       "      <td>122.0</td>\n",
       "      <td>alfa-romero</td>\n",
       "      <td>gas</td>\n",
       "      <td>std</td>\n",
       "      <td>2.0</td>\n",
       "      <td>hatchback</td>\n",
       "      <td>rwd</td>\n",
       "      <td>front</td>\n",
       "      <td>94.5</td>\n",
       "      <td>...</td>\n",
       "      <td>0</td>\n",
       "      <td>0</td>\n",
       "      <td>0</td>\n",
       "      <td>0</td>\n",
       "      <td>0</td>\n",
       "      <td>0</td>\n",
       "      <td>0</td>\n",
       "      <td>1</td>\n",
       "      <td>0</td>\n",
       "      <td>0</td>\n",
       "    </tr>\n",
       "    <tr>\n",
       "      <th>3</th>\n",
       "      <td>2</td>\n",
       "      <td>164.0</td>\n",
       "      <td>audi</td>\n",
       "      <td>gas</td>\n",
       "      <td>std</td>\n",
       "      <td>4.0</td>\n",
       "      <td>sedan</td>\n",
       "      <td>fwd</td>\n",
       "      <td>front</td>\n",
       "      <td>99.8</td>\n",
       "      <td>...</td>\n",
       "      <td>0</td>\n",
       "      <td>0</td>\n",
       "      <td>0</td>\n",
       "      <td>0</td>\n",
       "      <td>0</td>\n",
       "      <td>0</td>\n",
       "      <td>0</td>\n",
       "      <td>1</td>\n",
       "      <td>0</td>\n",
       "      <td>0</td>\n",
       "    </tr>\n",
       "    <tr>\n",
       "      <th>4</th>\n",
       "      <td>2</td>\n",
       "      <td>164.0</td>\n",
       "      <td>audi</td>\n",
       "      <td>gas</td>\n",
       "      <td>std</td>\n",
       "      <td>4.0</td>\n",
       "      <td>sedan</td>\n",
       "      <td>4wd</td>\n",
       "      <td>front</td>\n",
       "      <td>99.4</td>\n",
       "      <td>...</td>\n",
       "      <td>0</td>\n",
       "      <td>0</td>\n",
       "      <td>0</td>\n",
       "      <td>0</td>\n",
       "      <td>0</td>\n",
       "      <td>0</td>\n",
       "      <td>0</td>\n",
       "      <td>1</td>\n",
       "      <td>0</td>\n",
       "      <td>0</td>\n",
       "    </tr>\n",
       "    <tr>\n",
       "      <th>5</th>\n",
       "      <td>2</td>\n",
       "      <td>122.0</td>\n",
       "      <td>audi</td>\n",
       "      <td>gas</td>\n",
       "      <td>std</td>\n",
       "      <td>2.0</td>\n",
       "      <td>sedan</td>\n",
       "      <td>fwd</td>\n",
       "      <td>front</td>\n",
       "      <td>99.8</td>\n",
       "      <td>...</td>\n",
       "      <td>0</td>\n",
       "      <td>0</td>\n",
       "      <td>0</td>\n",
       "      <td>0</td>\n",
       "      <td>0</td>\n",
       "      <td>0</td>\n",
       "      <td>0</td>\n",
       "      <td>1</td>\n",
       "      <td>0</td>\n",
       "      <td>0</td>\n",
       "    </tr>\n",
       "    <tr>\n",
       "      <th>6</th>\n",
       "      <td>1</td>\n",
       "      <td>158.0</td>\n",
       "      <td>audi</td>\n",
       "      <td>gas</td>\n",
       "      <td>std</td>\n",
       "      <td>4.0</td>\n",
       "      <td>sedan</td>\n",
       "      <td>fwd</td>\n",
       "      <td>front</td>\n",
       "      <td>105.8</td>\n",
       "      <td>...</td>\n",
       "      <td>0</td>\n",
       "      <td>0</td>\n",
       "      <td>0</td>\n",
       "      <td>0</td>\n",
       "      <td>0</td>\n",
       "      <td>0</td>\n",
       "      <td>0</td>\n",
       "      <td>1</td>\n",
       "      <td>0</td>\n",
       "      <td>0</td>\n",
       "    </tr>\n",
       "    <tr>\n",
       "      <th>7</th>\n",
       "      <td>1</td>\n",
       "      <td>122.0</td>\n",
       "      <td>audi</td>\n",
       "      <td>gas</td>\n",
       "      <td>std</td>\n",
       "      <td>4.0</td>\n",
       "      <td>wagon</td>\n",
       "      <td>fwd</td>\n",
       "      <td>front</td>\n",
       "      <td>105.8</td>\n",
       "      <td>...</td>\n",
       "      <td>0</td>\n",
       "      <td>0</td>\n",
       "      <td>0</td>\n",
       "      <td>0</td>\n",
       "      <td>0</td>\n",
       "      <td>0</td>\n",
       "      <td>0</td>\n",
       "      <td>1</td>\n",
       "      <td>0</td>\n",
       "      <td>0</td>\n",
       "    </tr>\n",
       "    <tr>\n",
       "      <th>8</th>\n",
       "      <td>1</td>\n",
       "      <td>158.0</td>\n",
       "      <td>audi</td>\n",
       "      <td>gas</td>\n",
       "      <td>turbo</td>\n",
       "      <td>4.0</td>\n",
       "      <td>sedan</td>\n",
       "      <td>fwd</td>\n",
       "      <td>front</td>\n",
       "      <td>105.8</td>\n",
       "      <td>...</td>\n",
       "      <td>0</td>\n",
       "      <td>0</td>\n",
       "      <td>0</td>\n",
       "      <td>0</td>\n",
       "      <td>0</td>\n",
       "      <td>0</td>\n",
       "      <td>0</td>\n",
       "      <td>1</td>\n",
       "      <td>0</td>\n",
       "      <td>0</td>\n",
       "    </tr>\n",
       "    <tr>\n",
       "      <th>9</th>\n",
       "      <td>0</td>\n",
       "      <td>122.0</td>\n",
       "      <td>audi</td>\n",
       "      <td>gas</td>\n",
       "      <td>turbo</td>\n",
       "      <td>2.0</td>\n",
       "      <td>hatchback</td>\n",
       "      <td>4wd</td>\n",
       "      <td>front</td>\n",
       "      <td>99.5</td>\n",
       "      <td>...</td>\n",
       "      <td>0</td>\n",
       "      <td>0</td>\n",
       "      <td>0</td>\n",
       "      <td>0</td>\n",
       "      <td>0</td>\n",
       "      <td>0</td>\n",
       "      <td>0</td>\n",
       "      <td>1</td>\n",
       "      <td>0</td>\n",
       "      <td>0</td>\n",
       "    </tr>\n",
       "  </tbody>\n",
       "</table>\n",
       "<p>10 rows × 107 columns</p>\n",
       "</div>"
      ],
      "text/plain": [
       "   symbol  norm_loss_left        brand fuel_type aspiration  num_doors  \\\n",
       "0       3           122.0  alfa-romero       gas        std        2.0   \n",
       "1       3           122.0  alfa-romero       gas        std        2.0   \n",
       "2       1           122.0  alfa-romero       gas        std        2.0   \n",
       "3       2           164.0         audi       gas        std        4.0   \n",
       "4       2           164.0         audi       gas        std        4.0   \n",
       "5       2           122.0         audi       gas        std        2.0   \n",
       "6       1           158.0         audi       gas        std        4.0   \n",
       "7       1           122.0         audi       gas        std        4.0   \n",
       "8       1           158.0         audi       gas      turbo        4.0   \n",
       "9       0           122.0         audi       gas      turbo        2.0   \n",
       "\n",
       "    body_style wheel engine_loc  wheel_base_left  ...  num_cylinder_twelve  \\\n",
       "0  convertible   rwd      front             88.6  ...                    0   \n",
       "1  convertible   rwd      front             88.6  ...                    0   \n",
       "2    hatchback   rwd      front             94.5  ...                    0   \n",
       "3        sedan   fwd      front             99.8  ...                    0   \n",
       "4        sedan   4wd      front             99.4  ...                    0   \n",
       "5        sedan   fwd      front             99.8  ...                    0   \n",
       "6        sedan   fwd      front            105.8  ...                    0   \n",
       "7        wagon   fwd      front            105.8  ...                    0   \n",
       "8        sedan   fwd      front            105.8  ...                    0   \n",
       "9    hatchback   4wd      front             99.5  ...                    0   \n",
       "\n",
       "   num_cylinder_two  fuel_system_1bbl  fuel_system_2bbl fuel_system_4bbl  \\\n",
       "0                 0                 0                 0                0   \n",
       "1                 0                 0                 0                0   \n",
       "2                 0                 0                 0                0   \n",
       "3                 0                 0                 0                0   \n",
       "4                 0                 0                 0                0   \n",
       "5                 0                 0                 0                0   \n",
       "6                 0                 0                 0                0   \n",
       "7                 0                 0                 0                0   \n",
       "8                 0                 0                 0                0   \n",
       "9                 0                 0                 0                0   \n",
       "\n",
       "  fuel_system_idi  fuel_system_mfi fuel_system_mpfi  fuel_system_spdi  \\\n",
       "0               0                0                1                 0   \n",
       "1               0                0                1                 0   \n",
       "2               0                0                1                 0   \n",
       "3               0                0                1                 0   \n",
       "4               0                0                1                 0   \n",
       "5               0                0                1                 0   \n",
       "6               0                0                1                 0   \n",
       "7               0                0                1                 0   \n",
       "8               0                0                1                 0   \n",
       "9               0                0                1                 0   \n",
       "\n",
       "   fuel_system_spfi  \n",
       "0                 0  \n",
       "1                 0  \n",
       "2                 0  \n",
       "3                 0  \n",
       "4                 0  \n",
       "5                 0  \n",
       "6                 0  \n",
       "7                 0  \n",
       "8                 0  \n",
       "9                 0  \n",
       "\n",
       "[10 rows x 107 columns]"
      ]
     },
     "execution_count": 17,
     "metadata": {},
     "output_type": "execute_result"
    }
   ],
   "source": [
    "dataset = df.copy()\n",
    "\n",
    "#Generate binary values using get_dummies\n",
    "symbol_dummies = pd.get_dummies(dataset,columns=[\"symbol\",\"brand\",\"fuel_type\",\"aspiration\",\"num_doors\",\"body_style\",\"wheel\",\"engine_loc\",\n",
    "                 \"engine_type\",\"num_cylinder\",\"fuel_system\"],\n",
    "                 prefix=[\"symbol\",\"brand\",\"fuel_type\",\"aspiration\",\"num_doors\",\"body_style\",\"wheel\",\"engine_loc\",\n",
    "                 \"engine_type\",\"num_cylinder\",\"fuel_system\"])\n",
    "dataset=dataset.join(symbol_dummies,how=\"left\",lsuffix='_left')\n",
    "dataset.head(10)"
   ]
  },
  {
   "cell_type": "code",
   "execution_count": 18,
   "metadata": {},
   "outputs": [
    {
     "data": {
      "text/plain": [
       "Index(['norm_loss_left', 'wheel_base_left', 'length_left', 'width_left',\n",
       "       'height_left', 'curb_weight_left', 'engine_size_left', 'bore_left',\n",
       "       'stroke_left', 'compress_ratio_left', 'horsepower_left',\n",
       "       'peak_rpm_left', 'city_mpg_left', 'highway_mpg_left', 'price_left',\n",
       "       'symbol_-2', 'symbol_-1', 'symbol_0', 'symbol_1', 'symbol_2',\n",
       "       'symbol_3', 'brand_alfa-romero', 'brand_audi', 'brand_bmw',\n",
       "       'brand_chevrolet', 'brand_dodge', 'brand_honda', 'brand_isuzu',\n",
       "       'brand_jaguar', 'brand_mazda', 'brand_mercedes-benz', 'brand_mercury',\n",
       "       'brand_mitsubishi', 'brand_nissan', 'brand_peugot', 'brand_plymouth',\n",
       "       'brand_porsche', 'brand_renault', 'brand_saab', 'brand_subaru',\n",
       "       'brand_toyota', 'brand_volkswagen', 'brand_volvo', 'fuel_type_diesel',\n",
       "       'fuel_type_gas', 'aspiration_std', 'aspiration_turbo', 'num_doors_2.0',\n",
       "       'num_doors_4.0', 'body_style_convertible', 'body_style_hardtop',\n",
       "       'body_style_hatchback', 'body_style_sedan', 'body_style_wagon',\n",
       "       'wheel_4wd', 'wheel_fwd', 'wheel_rwd', 'engine_loc_front',\n",
       "       'engine_loc_rear', 'engine_type_dohc', 'engine_type_dohcv',\n",
       "       'engine_type_l', 'engine_type_ohc', 'engine_type_ohcf',\n",
       "       'engine_type_ohcv', 'engine_type_rotor', 'num_cylinder_eight',\n",
       "       'num_cylinder_five', 'num_cylinder_four', 'num_cylinder_six',\n",
       "       'num_cylinder_three', 'num_cylinder_twelve', 'num_cylinder_two',\n",
       "       'fuel_system_1bbl', 'fuel_system_2bbl', 'fuel_system_4bbl',\n",
       "       'fuel_system_idi', 'fuel_system_mfi', 'fuel_system_mpfi',\n",
       "       'fuel_system_spdi', 'fuel_system_spfi'],\n",
       "      dtype='object')"
      ]
     },
     "execution_count": 18,
     "metadata": {},
     "output_type": "execute_result"
    }
   ],
   "source": [
    "dataset = dataset.drop(['symbol', 'norm_loss', 'brand', 'fuel_type', 'aspiration', 'num_doors',\n",
    "       'body_style', 'wheel', 'engine_loc', 'wheel_base', 'length', 'width',\n",
    "       'height', 'curb_weight', 'engine_type', 'num_cylinder', 'engine_size',\n",
    "       'fuel_system', 'bore', 'stroke', 'compress_ratio', 'horsepower',\n",
    "       'peak_rpm', 'city_mpg', 'highway_mpg', 'price'],axis=1)\n",
    "dataset.columns"
   ]
  },
  {
   "cell_type": "markdown",
   "metadata": {},
   "source": [
    "#### Question 6: What's the correlational relation between variables?"
   ]
  },
  {
   "cell_type": "code",
   "execution_count": 19,
   "metadata": {},
   "outputs": [
    {
     "data": {
      "text/plain": [
       "<matplotlib.axes._subplots.AxesSubplot at 0x17319ee1c88>"
      ]
     },
     "execution_count": 19,
     "metadata": {},
     "output_type": "execute_result"
    },
    {
     "data": {
      "image/png": "[encoded data removed]",
      "text/plain": [
       "<Figure size 720x720 with 2 Axes>"
      ]
     },
     "metadata": {
      "needs_background": "light"
     },
     "output_type": "display_data"
    }
   ],
   "source": [
    "plt.figure(figsize=(10,10))\n",
    "corr = dataset.corr()\n",
    "mask = np.triu(np.ones_like(corr, dtype=bool))\n",
    "cmap = sns.diverging_palette(150, 275, s=80, l=55, n=9)\n",
    "sns.heatmap(corr, cmap=cmap,mask=mask, vmax=.3, center=0,\n",
    "            square=True, linewidths=0.1, cbar_kws={\"shrink\": 0.8})"
   ]
  },
  {
   "cell_type": "code",
   "execution_count": 20,
   "metadata": {},
   "outputs": [
    {
     "data": {
      "text/plain": [
       "Index(['norm_loss_left', 'wheel_base_left', 'length_left', 'width_left',\n",
       "       'height_left', 'curb_weight_left', 'engine_size_left', 'bore_left',\n",
       "       'stroke_left', 'compress_ratio_left', 'horsepower_left',\n",
       "       'peak_rpm_left', 'city_mpg_left', 'highway_mpg_left', 'symbol_-2',\n",
       "       'symbol_-1', 'symbol_0', 'symbol_1', 'symbol_2', 'symbol_3',\n",
       "       'brand_alfa-romero', 'brand_audi', 'brand_bmw', 'brand_chevrolet',\n",
       "       'brand_dodge', 'brand_honda', 'brand_isuzu', 'brand_jaguar',\n",
       "       'brand_mazda', 'brand_mercedes-benz', 'brand_mercury',\n",
       "       'brand_mitsubishi', 'brand_nissan', 'brand_peugot', 'brand_plymouth',\n",
       "       'brand_porsche', 'brand_renault', 'brand_saab', 'brand_subaru',\n",
       "       'brand_toyota', 'brand_volkswagen', 'brand_volvo', 'fuel_type_diesel',\n",
       "       'fuel_type_gas', 'aspiration_std', 'aspiration_turbo', 'num_doors_2.0',\n",
       "       'num_doors_4.0', 'body_style_convertible', 'body_style_hardtop',\n",
       "       'body_style_hatchback', 'body_style_sedan', 'body_style_wagon',\n",
       "       'wheel_4wd', 'wheel_fwd', 'wheel_rwd', 'engine_loc_front',\n",
       "       'engine_loc_rear', 'engine_type_dohc', 'engine_type_dohcv',\n",
       "       'engine_type_l', 'engine_type_ohc', 'engine_type_ohcf',\n",
       "       'engine_type_ohcv', 'engine_type_rotor', 'num_cylinder_eight',\n",
       "       'num_cylinder_five', 'num_cylinder_four', 'num_cylinder_six',\n",
       "       'num_cylinder_three', 'num_cylinder_twelve', 'num_cylinder_two',\n",
       "       'fuel_system_1bbl', 'fuel_system_2bbl', 'fuel_system_4bbl',\n",
       "       'fuel_system_idi', 'fuel_system_mfi', 'fuel_system_mpfi',\n",
       "       'fuel_system_spdi', 'fuel_system_spfi'],\n",
       "      dtype='object')"
      ]
     },
     "execution_count": 20,
     "metadata": {},
     "output_type": "execute_result"
    }
   ],
   "source": [
    "#Defining X and y\n",
    "\n",
    "X = dataset.loc[:,dataset.columns != \"price_left\" ]\n",
    "X.columns"
   ]
  },
  {
   "cell_type": "code",
   "execution_count": 21,
   "metadata": {},
   "outputs": [
    {
     "data": {
      "text/plain": [
       "0      13495.000000\n",
       "1      16500.000000\n",
       "2      16500.000000\n",
       "3      13950.000000\n",
       "4      17450.000000\n",
       "5      15250.000000\n",
       "6      17710.000000\n",
       "7      18920.000000\n",
       "8      23875.000000\n",
       "9      13207.129353\n",
       "10     16430.000000\n",
       "11     16925.000000\n",
       "12     20970.000000\n",
       "13     21105.000000\n",
       "14     24565.000000\n",
       "15     30760.000000\n",
       "16     41315.000000\n",
       "17     36880.000000\n",
       "18      5151.000000\n",
       "19      6295.000000\n",
       "20      6575.000000\n",
       "21      5572.000000\n",
       "22      6377.000000\n",
       "23      7957.000000\n",
       "24      6229.000000\n",
       "25      6692.000000\n",
       "26      7609.000000\n",
       "27      8558.000000\n",
       "28      8921.000000\n",
       "29     12964.000000\n",
       "           ...     \n",
       "175     9988.000000\n",
       "176    10898.000000\n",
       "177    11248.000000\n",
       "178    16558.000000\n",
       "179    15998.000000\n",
       "180    15690.000000\n",
       "181    15750.000000\n",
       "182     7775.000000\n",
       "183     7975.000000\n",
       "184     7995.000000\n",
       "185     8195.000000\n",
       "186     8495.000000\n",
       "187     9495.000000\n",
       "188     9995.000000\n",
       "189    11595.000000\n",
       "190     9980.000000\n",
       "191    13295.000000\n",
       "192    13845.000000\n",
       "193    12290.000000\n",
       "194    12940.000000\n",
       "195    13415.000000\n",
       "196    15985.000000\n",
       "197    16515.000000\n",
       "198    18420.000000\n",
       "199    18950.000000\n",
       "200    16845.000000\n",
       "201    19045.000000\n",
       "202    21485.000000\n",
       "203    22470.000000\n",
       "204    22625.000000\n",
       "Name: price_left, Length: 205, dtype: float64"
      ]
     },
     "execution_count": 21,
     "metadata": {},
     "output_type": "execute_result"
    }
   ],
   "source": [
    "y = dataset.loc[:,\"price_left\"]\n",
    "y"
   ]
  },
  {
   "cell_type": "markdown",
   "metadata": {},
   "source": [
    "## Model - Lasso Regression"
   ]
  },
  {
   "cell_type": "code",
   "execution_count": 22,
   "metadata": {},
   "outputs": [],
   "source": [
    "from sklearn.model_selection import train_test_split\n",
    "from sklearn.linear_model import Lasso\n",
    "\n",
    "X_train,X_test,y_train,y_test = train_test_split(X,y,test_size=0.33,random_state=42)"
   ]
  },
  {
   "cell_type": "code",
   "execution_count": 23,
   "metadata": {},
   "outputs": [],
   "source": [
    "model = Lasso(alpha=0.02, max_iter=10000,normalize=True)\n",
    "model.fit(X_train,y_train)\n",
    "y_pred = model.predict(X_test)"
   ]
  },
  {
   "cell_type": "code",
   "execution_count": 24,
   "metadata": {},
   "outputs": [
    {
     "name": "stdout",
     "output_type": "stream",
     "text": [
      "MSE: 7978604.265743228\n",
      "MAE: 1901.8198670911027\n",
      "R2 of the model is 0.8769551395513459\n"
     ]
    }
   ],
   "source": [
    "from sklearn.metrics import r2_score,mean_absolute_error,mean_squared_error\n",
    "\n",
    "print('MSE:',mean_squared_error(y_test,y_pred))\n",
    "print('MAE:',mean_absolute_error(y_test,y_pred))\n",
    "print(\"R2 of the model is\", r2_score(y_test,y_pred))"
   ]
  },
  {
   "cell_type": "code",
   "execution_count": 25,
   "metadata": {},
   "outputs": [
    {
     "data": {
      "text/plain": [
       "Text(0, 0.5, 'Actual Price')"
      ]
     },
     "execution_count": 25,
     "metadata": {},
     "output_type": "execute_result"
    },
    {
     "data": {
      "image/png": "[encoded data removed]",
      "text/plain": [
       "<Figure size 720x504 with 1 Axes>"
      ]
     },
     "metadata": {
      "needs_background": "light"
     },
     "output_type": "display_data"
    }
   ],
   "source": [
    "plt.figure(figsize=(10,7))\n",
    "sns.regplot(y_pred,y_test)\n",
    "plt.xlabel(\"Predicted Price\",fontsize=18)\n",
    "plt.ylabel(\"Actual Price\",fontsize=18)"
   ]
  },
  {
   "cell_type": "markdown",
   "metadata": {},
   "source": [
    "## Model - Random Forest Regressor"
   ]
  },
  {
   "cell_type": "code",
   "execution_count": 28,
   "metadata": {},
   "outputs": [
    {
     "data": {
      "text/plain": [
       "0.9736491739217613"
      ]
     },
     "execution_count": 28,
     "metadata": {},
     "output_type": "execute_result"
    }
   ],
   "source": [
    "from sklearn.ensemble import RandomForestRegressor\n",
    "\n",
    "rfr = RandomForestRegressor(max_depth=10)\n",
    "rfr.fit(X_train,y_train)\n",
    "rfr.score(X_train,y_train)"
   ]
  },
  {
   "cell_type": "code",
   "execution_count": 29,
   "metadata": {},
   "outputs": [
    {
     "name": "stdout",
     "output_type": "stream",
     "text": [
      "MSE: 5177561.98341009\n",
      "MAE: 1520.2585656579788\n",
      "R2 of the model is 0.9201524012854889\n"
     ]
    }
   ],
   "source": [
    "rfr_pred = rfr.predict(X_test)\n",
    "print('MSE:',mean_squared_error(y_test,rfr_pred))\n",
    "print('MAE:',mean_absolute_error(y_test,rfr_pred))\n",
    "print(\"R2 of the model is\", r2_score(y_test,rfr_pred))"
   ]
  },
  {
   "cell_type": "code",
   "execution_count": null,
   "metadata": {},
   "outputs": [],
   "source": []
  }
 ],
 "metadata": {
  "kernelspec": {
   "display_name": "Python 3",
   "language": "python",
   "name": "python3"
  },
  "language_info": {
   "codemirror_mode": {
    "name": "ipython",
    "version": 3
   },
   "file_extension": ".py",
   "mimetype": "text/x-python",
   "name": "python",
   "nbconvert_exporter": "python",
   "pygments_lexer": "ipython3",
   "version": "3.7.6"
  }
 },
 "nbformat": 4,
 "nbformat_minor": 4
}
